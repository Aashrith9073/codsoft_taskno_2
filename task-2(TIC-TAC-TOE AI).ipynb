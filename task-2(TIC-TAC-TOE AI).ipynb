{
 "cells": [
  {
   "cell_type": "code",
   "execution_count": 7,
   "metadata": {},
   "outputs": [],
   "source": [
    "# by using Win-Blocking AI algorithm\n",
    "import random"
   ]
  },
  {
   "cell_type": "code",
   "execution_count": 8,
   "metadata": {},
   "outputs": [],
   "source": [
    "# The game board\n",
    "game_board = [''] * 9\n",
    "\n",
    "# Function for printing the game board\n",
    "def tic_tac_toe_board():\n",
    "    print(' ' + game_board[0] + ' | ' + game_board[1] + ' | ' + game_board[2])\n",
    "    print('---------')\n",
    "    print(' ' + game_board[3] + ' | ' + game_board[4] + ' | ' + game_board[5])\n",
    "    print('---------')\n",
    "    print(' ' + game_board[6] + ' | ' + game_board[7] + ' | ' + game_board[8])\n",
    "    print(\" \")\n",
    "    print(\"🔵🔴🔵🔴\")\n",
    "    print(\" \")\n"
   ]
  },
  {
   "cell_type": "code",
   "execution_count": 9,
   "metadata": {},
   "outputs": [],
   "source": [
    "\n",
    "# defined a Function to check if a player has won\n",
    "def has_won(player):\n",
    "    win_conditions = [  #possible rows combinaton\n",
    "                        (0, 1, 2), (3, 4, 5), (6, 7, 8),\n",
    "                         #possible column combinations   \n",
    "                       (0, 3, 6), (1, 4, 7), (2, 5, 8),\n",
    "                       #possible diagonals combinations\n",
    "                         (0, 4, 8), (2, 4, 6)]\n",
    "    for condition in win_conditions:\n",
    "        if game_board[condition[0]] == game_board[condition[1]] == game_board[condition[2]] == player:\n",
    "            return True\n",
    "    return False\n"
   ]
  },
  {
   "cell_type": "code",
   "execution_count": 10,
   "metadata": {},
   "outputs": [],
   "source": [
    "# defined a Function to check if the game is a draw\n",
    "def if_match_is_draw():\n",
    "    return '' not in game_board and not has_won('X') and not has_won('O')"
   ]
  },
  {
   "cell_type": "code",
   "execution_count": 11,
   "metadata": {},
   "outputs": [],
   "source": [
    "# Win-Blocking AI algorithm\n",
    "def Ai_move():\n",
    "    # Check if AI can win in the next move\n",
    "    for i in range(9):\n",
    "        if game_board[i] == '':\n",
    "            game_board[i] = 'O'\n",
    "            if has_won('O'):\n",
    "                return\n",
    "            game_board[i] = ''\n",
    "\n",
    "    # Check if player can win in the next move and block them\n",
    "    for i in range(9):\n",
    "        if game_board[i] == '':\n",
    "            game_board[i] = 'X'\n",
    "            if has_won('X'):\n",
    "                game_board[i] = 'O'\n",
    "                return\n",
    "            game_board[i] = ''\n",
    "\n",
    "    # Make a random move\n",
    "    while True:\n",
    "        move = random.randint(0, 8)\n",
    "        if game_board[move] == '':\n",
    "            game_board[move] = 'O'\n",
    "            return\n"
   ]
  },
  {
   "cell_type": "code",
   "execution_count": 12,
   "metadata": {},
   "outputs": [
    {
     "name": "stdout",
     "output_type": "stream",
     "text": [
      "  |  | \n",
      "---------\n",
      "  |  | \n",
      "---------\n",
      "  |  | \n",
      " \n",
      "🔵🔴🔵🔴\n",
      " \n",
      " X |  | \n",
      "---------\n",
      "  |  | \n",
      "---------\n",
      " O |  | \n",
      " \n",
      "🔵🔴🔵🔴\n",
      " \n",
      " X | O | X\n",
      "---------\n",
      "  |  | \n",
      "---------\n",
      " O |  | \n",
      " \n",
      "🔵🔴🔵🔴\n",
      " \n",
      "The place you have entered is already filled!!!!\n",
      " X | O | X\n",
      "---------\n",
      "  |  | \n",
      "---------\n",
      " O |  | \n",
      " \n",
      "🔵🔴🔵🔴\n",
      " \n",
      " X | O | X\n",
      "---------\n",
      "  | X | \n",
      "---------\n",
      " O |  | O\n",
      " \n",
      "🔵🔴🔵🔴\n",
      " \n",
      " X | O | X\n",
      "---------\n",
      " X | X | \n",
      "---------\n",
      " O | O | O\n",
      " \n",
      "🔵🔴🔵🔴\n",
      " \n",
      "AI won the match💥!\n"
     ]
    }
   ],
   "source": [
    "\n",
    "\n",
    "\n",
    "\n",
    "\n",
    "\n",
    "# final Game loop\n",
    "while True:\n",
    "    tic_tac_toe_board()\n",
    "    move = input(\"Enter your move (1-9): \")\n",
    "    move = int(move) - 1\n",
    "    if game_board[move]!= '':\n",
    "        print(\"The place you have entered is already filled!!!!\")\n",
    "        continue\n",
    "    game_board[move] = 'X'\n",
    "    if has_won('X'):\n",
    "        tic_tac_toe_board()\n",
    "        print(\"You won the match!!🎉!\")\n",
    "        break\n",
    "    Ai_move()\n",
    "    if has_won('O'):\n",
    "        tic_tac_toe_board()\n",
    "        print(\"AI won the match💥!\")\n",
    "        break\n",
    "    if if_match_is_draw():\n",
    "        tic_tac_toe_board()\n",
    "        print(\"It's a draw👏!\")\n",
    "        break"
   ]
  }
 ],
 "metadata": {
  "kernelspec": {
   "display_name": "Python 3",
   "language": "python",
   "name": "python3"
  },
  "language_info": {
   "codemirror_mode": {
    "name": "ipython",
    "version": 3
   },
   "file_extension": ".py",
   "mimetype": "text/x-python",
   "name": "python",
   "nbconvert_exporter": "python",
   "pygments_lexer": "ipython3",
   "version": "3.12.2"
  }
 },
 "nbformat": 4,
 "nbformat_minor": 2
}
